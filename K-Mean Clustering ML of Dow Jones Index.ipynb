{
 "cells": [
  {
   "cell_type": "markdown",
   "id": "1f9ccd86",
   "metadata": {},
   "source": [
    "# Introduction"
   ]
  },
  {
   "cell_type": "markdown",
   "id": "3eb14d47",
   "metadata": {},
   "source": [
    "## Import Libraries"
   ]
  },
  {
   "cell_type": "code",
   "execution_count": 1,
   "id": "25d4132b",
   "metadata": {},
   "outputs": [],
   "source": [
    "import pandas_datareader.data as web\n",
    "import pandas as pd\n",
    "import yfinance as yf\n",
    "import datetime\n",
    "import numpy as np\n",
    "import matplotlib.pyplot as plt\n",
    "from sklearn.preprocessing import Normalizer\n",
    "from sklearn.pipeline import make_pipeline\n",
    "from sklearn.cluster import KMeans\n",
    "from sklearn.decomposition import PCA"
   ]
  },
  {
   "cell_type": "markdown",
   "id": "6d02267b",
   "metadata": {},
   "source": [
    "### Defining Data Cleaning Function\n",
    "If a ticker, in the list obtained from the Dow Jones Index, contains a NaN value, subsequent information on that ticker is removed from their corresponding lists. "
   ]
  },
  {
   "cell_type": "code",
   "execution_count": 2,
   "id": "38d83275",
   "metadata": {},
   "outputs": [],
   "source": [
    "# Define the function to clean the DataFrame\n",
    "def clean_stock_data(stock_data, tickers, company, industry):\n",
    "    # Check for NaN values in the stock_data DataFrame\n",
    "    nan_check = stock_data.isna().any()\n",
    "\n",
    "    # Identify columns with NaN values\n",
    "    columns_with_nan = nan_check[nan_check].index.tolist()\n",
    "\n",
    "    if columns_with_nan:\n",
    "        # Remove columns with NaN values\n",
    "        stock_data_cleaned = stock_data.drop(columns=columns_with_nan)\n",
    "        print(f\"Removed columns with NaN values: {columns_with_nan}\")\n",
    "\n",
    "        # Remove the associated tickers from the list if they exist\n",
    "        for col in columns_with_nan:\n",
    "            ticker = col[1]\n",
    "\n",
    "            if ticker in tickers:\n",
    "                ticker_index = tickers.index(ticker)\n",
    "                tickers.pop(ticker_index)\n",
    "                company.pop(ticker_index)\n",
    "                industry.pop(ticker_index)\n",
    "\n",
    "        print(f\"Removed tickers associated with NaN columns: {columns_with_nan}\")\n",
    "\n",
    "        return stock_data_cleaned, tickers, company, industry\n",
    "    else:\n",
    "        return stock_data, tickers, company, industry"
   ]
  },
  {
   "cell_type": "markdown",
   "id": "c7ece30e",
   "metadata": {},
   "source": [
    "## Obtaining Dow Jones Index Data\n",
    "The company tickers for the Dow Jones Index are obtained from the falling URL: https://en.wikipedia.org/wiki/Dow_Jones_Industrial_Average.\n",
    "The data is scraped from a table and then specific columns are assigned to specific variables."
   ]
  },
  {
   "cell_type": "code",
   "execution_count": 3,
   "id": "ae7e2f75",
   "metadata": {},
   "outputs": [
    {
     "name": "stdout",
     "output_type": "stream",
     "text": [
      "[*********************100%***********************]  30 of 30 completed\n",
      "Removed columns with NaN values: [('Adj Close', 'DOW'), ('Close', 'DOW'), ('High', 'DOW'), ('Low', 'DOW'), ('Open', 'DOW'), ('Volume', 'DOW')]\n",
      "Removed tickers associated with NaN columns: [('Adj Close', 'DOW'), ('Close', 'DOW'), ('High', 'DOW'), ('Low', 'DOW'), ('Open', 'DOW'), ('Volume', 'DOW')]\n"
     ]
    }
   ],
   "source": [
    "# Read tables from the Wikipedia page\n",
    "df_dow_jones_list = pd.read_html(\"https://en.wikipedia.org/wiki/Dow_Jones_Industrial_Average\")\n",
    "\n",
    "# Identify the correct DataFrame that contains DJIA data (you might need to check the list)\n",
    "df_dow_jones = df_dow_jones_list[1]  # Change the index if needed\n",
    "\n",
    "# Get the list of tickers\n",
    "tickers = df_dow_jones['Symbol'].tolist()\n",
    "company = df_dow_jones['Company'].tolist()\n",
    "industry = df_dow_jones['Industry'].tolist()\n",
    "# Define the end date\n",
    "end_date = datetime.datetime.today().date()\n",
    "\n",
    "# Download DJIA stock data\n",
    "dow_jones_stock = yf.download(tickers, start=datetime.datetime(2018, 10, 11), end=end_date)\n",
    "\n",
    "# Clean the stock data by removing rows with NaN values for specific tickers\n",
    "dow_jones_stock, tickers, company, industry = clean_stock_data(dow_jones_stock, tickers, company, industry)\n",
    "\n"
   ]
  },
  {
   "cell_type": "code",
   "execution_count": 4,
   "id": "e62fde9a",
   "metadata": {},
   "outputs": [],
   "source": [
    "# Find Stock Open and Close Values\n",
    "stock_close = dow_jones_stock['Close']\n",
    "stock_open = dow_jones_stock['Open']\n"
   ]
  },
  {
   "cell_type": "markdown",
   "id": "58c24da4",
   "metadata": {},
   "source": [
    "## Calculating Daily Stock Movement\n",
    "Here, we compute some data processing and manipulation to acquire the daily movement in share price for each ticker. The data is first transposed such that each row represents a company and each column represents a trading day. The empty matrix, 'movements', is then assigned which will store the daily stock price movements for each day. The daily movements are then calculated before being summed for each ticker for the previously defined time period."
   ]
  },
  {
   "cell_type": "code",
   "execution_count": 5,
   "id": "06070621",
   "metadata": {},
   "outputs": [
    {
     "name": "stdout",
     "output_type": "stream",
     "text": [
      "Company: MMM, Change: 135.3422088623047\n",
      "Company: AXP, Change: 38.45997619628906\n",
      "Company: AMGN, Change: -32.83014678955078\n",
      "Company: AAPL, Change: -250.43050384521484\n",
      "Company: BA, Change: 78.39031982421875\n",
      "Company: CAT, Change: -20.30028533935547\n",
      "Company: CVX, Change: 17.879932403564453\n",
      "Company: CSCO, Change: -16.809967041015625\n",
      "Company: KO, Change: -136.50020599365234\n",
      "Company: DIS, Change: 80.42990112304688\n",
      "Company: GS, Change: 191.3697052001953\n",
      "Company: HD, Change: -40.541542053222656\n",
      "Company: HON, Change: 28.867477416992188\n",
      "Company: IBM, Change: 13.499921798706055\n",
      "Company: INTC, Change: 7.539878845214844\n",
      "Company: JNJ, Change: 2.5697555541992188\n",
      "Company: JPM, Change: -22.240028381347656\n",
      "Company: MCD, Change: -6.8098907470703125\n",
      "Company: MRK, Change: -168.4000473022461\n",
      "Company: MSFT, Change: 6.9130401611328125\n",
      "Company: NKE, Change: 89.68994903564453\n",
      "Company: PG, Change: -34.28986740112305\n",
      "Company: CRM, Change: 77.5204086303711\n",
      "Company: TRV, Change: -6.1699371337890625\n",
      "Company: UNH, Change: 45.079925537109375\n",
      "Company: VZ, Change: 44.65990447998047\n",
      "Company: V, Change: -11.950037002563477\n",
      "Company: WBA, Change: -53.559953689575195\n",
      "Company: WMT, Change: 43.78021240234375\n"
     ]
    }
   ],
   "source": [
    "# Calculate daily stock movement\n",
    "stock_close_mov = np.array(stock_close).T\n",
    "stock_open_mov = np.array(stock_open).T\n",
    "\n",
    "row, col = stock_close_mov.shape\n",
    "\n",
    "# create movements dataset filled with 0's\n",
    "movements = np.zeros([row, col])\n",
    "\n",
    "for i in range(0, row):\n",
    " movements[i,:] = np.subtract(stock_close_mov[i,:], stock_open_mov[i,:])\n",
    "\n",
    "for i in range(0, len(tickers)):\n",
    " print('Company: {}, Change: {}'.format(tickers[i], sum(movements[i][:])))\n",
    "\n",
    "#print(movements)"
   ]
  },
  {
   "cell_type": "markdown",
   "id": "4242449c",
   "metadata": {},
   "source": [
    "### Visualising the Daily Movement Data (2 Stock Example)"
   ]
  },
  {
   "cell_type": "code",
   "execution_count": 6,
   "id": "2cdabc0e",
   "metadata": {},
   "outputs": [
    {
     "data": {
      "image/png": "[encoded data removed]",
      "text/plain": [
       "<Figure size 1296x1152 with 2 Axes>"
      ]
     },
     "metadata": {
      "needs_background": "light"
     },
     "output_type": "display_data"
    }
   ],
   "source": [
    "#Exploratory Data Analysis\n",
    "plt.figure(figsize=(18,16))\n",
    "ax1 = plt.subplot(221)\n",
    "plt.plot(movements[0][:])\n",
    "plt.xlabel('Day no.')\n",
    "plt.ylabel('Daily Price Movement')\n",
    "plt.title(tickers[0])\n",
    "\n",
    "plt.subplot(222, sharey=ax1)\n",
    "plt.plot(movements[1][:])\n",
    "plt.xlabel('Day no.')\n",
    "plt.ylabel('Daily Price Movement')\n",
    "plt.title(tickers[1])\n",
    "plt.show()\n"
   ]
  },
  {
   "cell_type": "markdown",
   "id": "a4393f1e",
   "metadata": {},
   "source": [
    "## Normalising the Data\n",
    "Normalizing the daily stock price movements ensures that the K-Means algorithm works effectively and provides meaningful clusters. The Normalizer scales the data such that each row (representing a company's daily stock movements) has a Euclidean norm of 1. This process is also referred to as \"feature scaling\" and is a standard practice in data preprocessing for machine learning and clustering tasks."
   ]
  },
  {
   "cell_type": "code",
   "execution_count": 7,
   "id": "21e5bab1",
   "metadata": {},
   "outputs": [
    {
     "name": "stdout",
     "output_type": "stream",
     "text": [
      "0.20672244356694033\n",
      "-0.21372320545961776\n",
      "-5.940360998430062e-06\n"
     ]
    }
   ],
   "source": [
    "# create the Normalizer\n",
    "normalizer = Normalizer()\n",
    "\n",
    "new = normalizer.fit_transform(movements)\n",
    "\n",
    "print(new.max())\n",
    "print(new.min())\n",
    "print(new.mean())"
   ]
  },
  {
   "cell_type": "markdown",
   "id": "bb8551a9",
   "metadata": {},
   "source": [
    "## K-Means\n",
    "In this code, daily stock price movements are clustered into 10 groups using K-Means after normalizing the data for consistent scaling. The K-Means algorithm assigns each data point to a cluster, aiming to minimize the distance between data points and their respective cluster centers. The use of a normalization step is vital to ensure that all features are on the same scale, preventing any single feature from dominating the clustering process. The reported inertia score helps gauge the quality of the clustering, with lower values indicating well-defined and compact clusters."
   ]
  },
  {
   "cell_type": "code",
   "execution_count": 8,
   "id": "508284a9",
   "metadata": {},
   "outputs": [
    {
     "name": "stderr",
     "output_type": "stream",
     "text": [
      "C:\\Users\\adamm\\anaconda3\\lib\\site-packages\\sklearn\\cluster\\_kmeans.py:1332: UserWarning: KMeans is known to have a memory leak on Windows with MKL, when there are less chunks than available threads. You can avoid it by setting the environment variable OMP_NUM_THREADS=1.\n",
      "  warnings.warn(\n"
     ]
    },
    {
     "name": "stdout",
     "output_type": "stream",
     "text": [
      "9.535608468183382\n"
     ]
    }
   ],
   "source": [
    "# define normalizer\n",
    "normalizer = Normalizer()\n",
    "\n",
    "# create a K-means model with 10 clusters\n",
    "kmeans = KMeans(n_clusters=10, max_iter=1000)\n",
    "\n",
    "# make a pipeline chaining normalizer and kmeans\n",
    "pipeline = make_pipeline(normalizer,kmeans)\n",
    "\n",
    "# fit pipeline to daily stock movements\n",
    "pipeline.fit(movements)\n",
    "\n",
    "print(kmeans.inertia_)\n",
    "# Intertia is a score of how close each cluster is, so a lower inertia score is better. \n",
    "# In this case, we got a score of 9.5908.\n"
   ]
  },
  {
   "cell_type": "markdown",
   "id": "97131f6d",
   "metadata": {},
   "source": [
    "### Predicting Cluster Labels\n",
    "The script assigns cluster labels to daily stock price movements, associates them with company details, and presents the results in a DataFrame sorted by cluster labels for easy analysis and interpretation of the stock market's clustering patterns."
   ]
  },
  {
   "cell_type": "code",
   "execution_count": 9,
   "id": "ddaeb2a0",
   "metadata": {},
   "outputs": [
    {
     "name": "stdout",
     "output_type": "stream",
     "text": [
      "    labels companies                     title                        industry\n",
      "4        0        BA                    Boeing           Aerospace and defense\n",
      "18       0       MRK                     Merck         Pharmaceutical industry\n",
      "7        0      CSCO                     Cisco          Information technology\n",
      "11       0        HD                Home Depot                Home Improvement\n",
      "6        1       CVX                   Chevron              Petroleum industry\n",
      "27       1       WBA  Walgreens Boots Alliance                       Retailing\n",
      "12       1       HON                 Honeywell                    Conglomerate\n",
      "28       2       WMT                   Walmart                       Retailing\n",
      "26       2         V                      Visa              Financial services\n",
      "22       2       CRM                Salesforce          Information technology\n",
      "16       2       JPM            JPMorgan Chase              Financial services\n",
      "21       3        PG          Procter & Gamble      Fast-moving consumer goods\n",
      "10       3        GS             Goldman Sachs              Financial services\n",
      "14       4      INTC                     Intel          Semiconductor industry\n",
      "1        4       AXP          American Express              Financial services\n",
      "9        5       DIS                    Disney  Broadcasting and entertainment\n",
      "15       5       JNJ         Johnson & Johnson         Pharmaceutical industry\n",
      "8        5        KO                 Coca-Cola                  Drink industry\n",
      "2        5      AMGN                     Amgen               Biopharmaceutical\n",
      "5        6       CAT               Caterpillar         Construction and mining\n",
      "20       6       NKE                      Nike               Clothing industry\n",
      "25       6        VZ                   Verizon     Telecommunications industry\n",
      "13       6       IBM                       IBM          Information technology\n",
      "0        6       MMM                        3M                    Conglomerate\n",
      "19       7      MSFT                 Microsoft          Information technology\n",
      "24       7       UNH        UnitedHealth Group             Managed health care\n",
      "3        8      AAPL                     Apple          Information technology\n",
      "17       9       MCD                McDonald's                   Food industry\n",
      "23       9       TRV                 Travelers                       Insurance\n"
     ]
    }
   ],
   "source": [
    "# predict cluster labels\n",
    "labels = pipeline.predict(movements)\n",
    "\n",
    "# create a DataFrame aligning labels & companies\n",
    "df = pd.DataFrame({'labels': labels, 'companies': tickers, 'title': company, 'industry': industry})\n",
    "\n",
    "# display df sorted by cluster labels\n",
    "print(df.sort_values('labels'))"
   ]
  },
  {
   "cell_type": "markdown",
   "id": "abde828f",
   "metadata": {},
   "source": [
    "## Principal Component Analysis (PCA)\n",
    "This script uses PCA for dimensionality reduction and K-Means clustering to group companies based on their stock price movements into 10 clusters. It then presents the results in a DataFrame sorted by cluster labels, providing insights into the clustering patterns in the stock market data."
   ]
  },
  {
   "cell_type": "code",
   "execution_count": 10,
   "id": "d9e34a4c",
   "metadata": {},
   "outputs": [
    {
     "name": "stderr",
     "output_type": "stream",
     "text": [
      "C:\\Users\\adamm\\anaconda3\\lib\\site-packages\\sklearn\\cluster\\_kmeans.py:1332: UserWarning: KMeans is known to have a memory leak on Windows with MKL, when there are less chunks than available threads. You can avoid it by setting the environment variable OMP_NUM_THREADS=1.\n",
      "  warnings.warn(\n"
     ]
    },
    {
     "name": "stdout",
     "output_type": "stream",
     "text": [
      "    labels companies                     title                        industry\n",
      "2        0      AMGN                     Amgen               Biopharmaceutical\n",
      "3        0      AAPL                     Apple          Information technology\n",
      "9        0       DIS                    Disney  Broadcasting and entertainment\n",
      "28       1       WMT                   Walmart                       Retailing\n",
      "22       1       CRM                Salesforce          Information technology\n",
      "20       2       NKE                      Nike               Clothing industry\n",
      "0        2       MMM                        3M                    Conglomerate\n",
      "5        2       CAT               Caterpillar         Construction and mining\n",
      "23       3       TRV                 Travelers                       Insurance\n",
      "18       3       MRK                     Merck         Pharmaceutical industry\n",
      "10       4        GS             Goldman Sachs              Financial services\n",
      "25       4        VZ                   Verizon     Telecommunications industry\n",
      "13       4       IBM                       IBM          Information technology\n",
      "21       4        PG          Procter & Gamble      Fast-moving consumer goods\n",
      "14       5      INTC                     Intel          Semiconductor industry\n",
      "26       5         V                      Visa              Financial services\n",
      "1        5       AXP          American Express              Financial services\n",
      "16       5       JPM            JPMorgan Chase              Financial services\n",
      "19       5      MSFT                 Microsoft          Information technology\n",
      "24       6       UNH        UnitedHealth Group             Managed health care\n",
      "17       6       MCD                McDonald's                   Food industry\n",
      "6        6       CVX                   Chevron              Petroleum industry\n",
      "27       7       WBA  Walgreens Boots Alliance                       Retailing\n",
      "12       7       HON                 Honeywell                    Conglomerate\n",
      "15       8       JNJ         Johnson & Johnson         Pharmaceutical industry\n",
      "11       8        HD                Home Depot                Home Improvement\n",
      "4        8        BA                    Boeing           Aerospace and defense\n",
      "7        8      CSCO                     Cisco          Information technology\n",
      "8        9        KO                 Coca-Cola                  Drink industry\n"
     ]
    }
   ],
   "source": [
    "# visualize the results\n",
    "reduced_data = PCA(n_components = 2).fit_transform(new)\n",
    "\n",
    "# run kmeans on reduced data\n",
    "kmeans = KMeans(n_clusters=10)\n",
    "kmeans.fit(reduced_data)\n",
    "labels = kmeans.predict(reduced_data)\n",
    "\n",
    "# create DataFrame aligning labels & companies\n",
    "df = pd.DataFrame({'labels': labels, 'companies': tickers, 'title': company, 'industry': industry})\n",
    "\n",
    "# Display df sorted by cluster labels\n",
    "print(df.sort_values('labels'))"
   ]
  },
  {
   "cell_type": "markdown",
   "id": "e40c0850",
   "metadata": {},
   "source": [
    "### Visualisation\n",
    "This code generates a visualization of K-Means clustering results for stock market movements. It plots decision boundaries, cluster centroids, and data points on a 2D plane. The colors represent different clusters, allowing you to see how companies are grouped based on their stock price movements. Axis labels indicate that the plot represents principal component 1 and principal component 2, which are the results of dimensionality reduction using PCA."
   ]
  },
  {
   "cell_type": "code",
   "execution_count": 11,
   "id": "2492cf5c",
   "metadata": {},
   "outputs": [
    {
     "data": {
      "text/plain": [
       "<Figure size 432x288 with 0 Axes>"
      ]
     },
     "metadata": {},
     "output_type": "display_data"
    },
    {
     "data": {
      "image/png": "[encoded data removed]",
      "text/plain": [
       "<Figure size 720x720 with 1 Axes>"
      ]
     },
     "metadata": {
      "needs_background": "light"
     },
     "output_type": "display_data"
    }
   ],
   "source": [
    "#Visualisation\n",
    "# Define step size of mesh\n",
    "h = 0.01\n",
    "\n",
    "# plot the decision boundary\n",
    "x_min, x_max = reduced_data[:, 0].min() - 1, reduced_data[:,0].max() + 1\n",
    "y_min, y_max = reduced_data[:, 1].min() - 1, reduced_data[:,1].max() + 1\n",
    "xx, yy = np.meshgrid(np.arange(x_min, x_max, h), np.arange(y_min, y_max, h))\n",
    "\n",
    "# Obtain abels for each point in the mesh using our trained model\n",
    "Z = kmeans.predict(np.c_[xx.ravel(), yy.ravel()])\n",
    "\n",
    "# Put the result into a color plot\n",
    "Z = Z.reshape(xx.shape)\n",
    "\n",
    "# define colorplot\n",
    "cmap = plt.cm.Paired\n",
    "\n",
    "# plot figure\n",
    "plt.clf()\n",
    "plt.figure(figsize=(10,10))\n",
    "plt.imshow(Z, interpolation='nearest',\n",
    " extent = (xx.min(), xx.max(), yy.min(), yy.max()),\n",
    " cmap = cmap,\n",
    " aspect = 'auto', origin='lower')\n",
    "plt.plot(reduced_data[:, 0], reduced_data[:, 1], 'k.', markersize=5)\n",
    "\n",
    "\n",
    "# plot the centroid of each cluster as a white X\n",
    "centroids = kmeans.cluster_centers_\n",
    "plt.scatter(centroids[:, 0], centroids[:, 1],\n",
    " marker='x', s=169, linewidth=3,\n",
    " color='w', zorder=10)\n",
    "\n",
    "plt.title('K-Means Clustering on Stock Market Movements (PCA-Reduced Data)')\n",
    "plt.xlim(x_min, x_max)\n",
    "plt.ylim(y_min, y_max)\n",
    "plt.xlabel('Principal Component 1')\n",
    "plt.ylabel('Principal Component 2')\n",
    "plt.show()"
   ]
  },
  {
   "cell_type": "markdown",
   "id": "a38b1aeb",
   "metadata": {},
   "source": [
    "## Final Summary"
   ]
  },
  {
   "cell_type": "markdown",
   "id": "955f16ad",
   "metadata": {},
   "source": [
    "In this code, we start by collecting and cleaning data related to stocks in the Dow Jones Industrial Average (DJIA). We then calculate the daily stock price movements, create a normalized version of the movements, and perform K-Means clustering to group companies based on their stock price behavior. Finally, we visualize the clustering results using PCA and K-Means, allowing us to observe how companies are grouped in the reduced-dimensional space.\n",
    "\n",
    "Here's a detailed breakdown:\n",
    "\n",
    "1. Data Collection and Cleaning:\n",
    "\n",
    "Data for DJIA stocks is collected and cleaned, removing companies with missing data (NaN values) from consideration.\n",
    "\n",
    "2. Stock Price Movement Calculation:\n",
    "\n",
    "Daily stock price movements are calculated by subtracting the opening prices from the closing prices for each trading day.\n",
    "A matrix (\"movements\") is created to store these movements for all companies.\n",
    "\n",
    "3. Data Normalization:\n",
    "\n",
    "The movements data is normalized using the sklearn Normalizer to scale the values.\n",
    "\n",
    "4. K-Means Clustering:\n",
    "\n",
    "A K-Means clustering model with ten clusters is created.\n",
    "A pipeline is established, chaining the Normalizer and K-Means model.\n",
    "The pipeline is fit to the daily stock movements, and the inertia score is calculated.\n",
    "\n",
    "5. Cluster Labeling:\n",
    "\n",
    "Cluster labels are predicted using the fitted K-Means model.\n",
    "A DataFrame is created, aligning cluster labels with company information, such as tickers, company names, and industries.\n",
    "The DataFrame is sorted based on cluster labels for analysis.\n",
    "\n",
    "6. Principal Component Analysis (PCA):\n",
    "\n",
    "The reduced data is calculated using PCA with two principal components.\n",
    "K-Means clustering is applied to the reduced data to group companies based on their movements in a lower-dimensional space.\n",
    "The results are displayed in a DataFrame.\n",
    "\n",
    "7. Visualization:\n",
    "\n",
    "A visual representation of the K-Means clustering results is generated.\n",
    "Decision boundaries, data points, and cluster centroids are displayed on a 2D plane.\n",
    "The plot provides insights into how companies are clustered based on their stock price movements, with axis labels indicating the principal components used in the visualization.\n",
    "\n",
    "### Conclusion:\n",
    "The provided code demonstrates a comprehensive data analysis and clustering process for DJIA stock price movements. It collects, cleans, and processes the data, performs K-Means clustering on the normalized movements, and visualizes the results using PCA reduction. This analysis enables a better understanding of how different companies are grouped based on their daily stock price behaviors, aiding investment and portfolio management decisions."
   ]
  },
  {
   "cell_type": "code",
   "execution_count": null,
   "id": "700113a2",
   "metadata": {},
   "outputs": [],
   "source": []
  }
 ],
 "metadata": {
  "kernelspec": {
   "display_name": "Python 3 (ipykernel)",
   "language": "python",
   "name": "python3"
  },
  "language_info": {
   "codemirror_mode": {
    "name": "ipython",
    "version": 3
   },
   "file_extension": ".py",
   "mimetype": "text/x-python",
   "name": "python",
   "nbconvert_exporter": "python",
   "pygments_lexer": "ipython3",
   "version": "3.9.12"
  }
 },
 "nbformat": 4,
 "nbformat_minor": 5
}
